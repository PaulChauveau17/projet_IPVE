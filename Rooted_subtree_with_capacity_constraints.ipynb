{
 "cells": [
  {
   "cell_type": "markdown",
   "metadata": {},
   "source": [
    "# Arbre enraciné de profit maximum avec des contraintes de capacité\n",
    "\n",
    "Etant donné un ensemble de sites $V$ et une matrice de distance $D = (d_{ij})$ entre chaque paire de sites, le problème du $p$-centre consiste à sélectionner $p$ sites de $V$ afin qu'ils agissent comme des centres et à affecter les autres sites au centre disponible le plus proche tout en minimisant la plus grande distance entre un site et son centre. Des contraintes supplémentaires, telles que des contraintes de précédence ou des contraintes de capacité, peuvent apparaître dans certaines applications. Ces problèmes sont souvent résolus par des méthodes de décomposition où le problème original est décomposé en sous-problèmes consistant à construire des centres réalisables.\n",
    "\n",
    "Le but de ce projet est de proposer des modèles mathématiques pour la résolution d'un sous-problème associé à un site donné jouant le rôle de centre.\n",
    "\n",
    "## Présentation du problème\n",
    "\n",
    "Soient $V = \\{0, \\dots, n-1\\}$ un ensemble de sites et $r \\in V$ un centre prédéfini. A chaque site $i \\in V$, on associe deux poids $w_i^1$ et $w_i^2$, une distance $d_i$ entre le site $i$ et le centre $r$, et un profit $p_i$ (pouvant être négatif). On définit également pour chaque site $i$ un prédécesseur $\\pi_i \\in V$ devant être pris si $i$ est pris dans la solution. On suppose que les données satisfont la propriété que la distance au centre d'un sommet $i$ est supérieure ou égale à la distance au centre de son précédesseur $\\pi_i$. L'ensemble des prédécesseurs défini un arbre enraciné en le centre $r$. Soient $C^1$ et $C^2$ deux capacités.\n",
    "\n",
    "Le problème consiste à selectionner un ensemble de sommets qui seront affectés au centre $r$, dont le poids total (centre inclu), pour chacun des poids $w^1$ et $w^2$ est inférieur aux capacités $C^1$ et $C^2$, et tel que si un sommet $i$ est sélectionné, alors sont prédécesseur $\\pi_i$ est également sélectionné.\n",
    "\n",
    "L'objectif du problème est de maximiser le profit total des sites sélectionnés (en incluant le centre $r$) auquel on soustrait la distance au centre (également appelée rayon) du sommet sélectionné le plus éloigné.\n",
    "\n",
    "\n",
    "## Données\n",
    "\n",
    "Vous trouverez dans le répertoire `instances` un ensemble de jeux de données pour ce problème. Chaque fichier correspond à un jeu de données et contient les informations suivantes (la numérotation des sites commence à 0) :\n",
    "\n",
    "- Première ligne : Nombre de sites, $C^1$, $C^2$, numéro du centre.\n",
    "- Une ligne pour chaque site indiquant : numéro du prédécesseur $\\pi_i$, distance $d_i$ du site au centre, le profit $p_i$ du site, le poids $w_i^1$, le poids $w_i^2$.\n",
    "\n",
    "Si pour un site $i$, son prédécesseur vaut $\\pi_i = -1$, soit $i$ est le centre $r$ et il doit être pris dans la solution, soit le site $i$ n'est pas le centre et auquel cas, le site ne peut pas être pris dans la solution.\n",
    "\n",
    "Implémentez ici la lecture des données."
   ]
  },
  {
   "cell_type": "code",
   "execution_count": 1,
   "metadata": {},
   "outputs": [],
   "source": [
    "# Instances de test\n",
    "\n",
    "#dataFileName = 'Instances/btk_1-Reichstett_0_0.dat'\n",
    "#modelFileName = 'Models/btk_1-Reichstett_0_0.lp'\n",
    "#soluFileName = 'Solutions/btk_1-Reichstett_0_0.lp'"
   ]
  },
  {
   "cell_type": "code",
   "execution_count": 2,
   "metadata": {},
   "outputs": [
    {
     "name": "stdout",
     "output_type": "stream",
     "text": [
      "btk_att48_2_3_2_4 - .dat\n",
      "/media/paul/SanDisk/ROAD/IPVE/Projet\n"
     ]
    }
   ],
   "source": [
    "import os\n",
    "\n",
    "# get the list of filenames in the working directory\n",
    "\n",
    "#os.chdir(\"/media/pachauveau/SanDisk/ROAD/IPVE/Projet/\")\n",
    "os.chdir(\"/media/paul/SanDisk/ROAD/IPVE/Projet\")\n",
    "#print(os.getcwd())\n",
    "os.chdir(\"./Instances\")\n",
    "#print(os.getcwd())\n",
    "\n",
    "namesAndExtensions = os.listdir('.')\n",
    "# print(namesAndExtensions)\n",
    "## ['btk_att48_2_3_2_4.dat', 'btk_eilA76_3_2_2_0.dat', ... ]\n",
    "\n",
    "# splittedStr = filter(split('.'), namesAndExtensions)\n",
    "\n",
    "names = []\n",
    "extensions = []\n",
    "\n",
    "# si il y a un point dans le nom du fichier on récupère \n",
    "# alors seulement une partie des valeurs\n",
    "for nAndE in namesAndExtensions :\n",
    "    splittedStr = nAndE.split('.')\n",
    "    extensions.append(\".\" + splittedStr[-1])\n",
    "    names.append(splittedStr[-2])\n",
    "\n",
    "print(names[0] + \" - \" + extensions[0])\n",
    "\n",
    "\n",
    "os.chdir(\"..\")\n",
    "print(os.getcwd())"
   ]
  },
  {
   "cell_type": "code",
   "execution_count": 3,
   "metadata": {},
   "outputs": [],
   "source": [
    "def putDatExt(str):\n",
    "    return (str + \".dat\")\n",
    "\n",
    "def putIns(str):\n",
    "    return (\"Instances/\" + str)\n",
    "\n",
    "namesWithIns = list(map(putIns, names))\n",
    "\n",
    "namesWithInsAndDat = list(map(putDatExt, namesWithIns))\n",
    "\n",
    "# print(namesWithInsAndDat[0])"
   ]
  },
  {
   "cell_type": "code",
   "execution_count": 4,
   "metadata": {},
   "outputs": [],
   "source": [
    "def putLpExt(str):\n",
    "    return str + \".lp\"\n",
    "\n",
    "def putMod(str):\n",
    "    return \"Models/\" + str\n",
    "\n",
    "namesWithMod = list(map(putMod, names))\n",
    "\n",
    "namesWithModAndLp = list(map(putLpExt, namesWithMod))\n",
    "\n",
    "#print(namesWithModAndLp[0])"
   ]
  },
  {
   "cell_type": "code",
   "execution_count": 5,
   "metadata": {},
   "outputs": [],
   "source": [
    "def putSol(str):\n",
    "    return \"Solutions/\" + str\n",
    "\n",
    "namesWithSol = list(map(putSol, names))\n",
    "\n",
    "namesWithSolAndLp = list(map(putLpExt, namesWithSol))\n",
    "\n",
    "#print(namesWithSolAndLp[0])"
   ]
  },
  {
   "cell_type": "code",
   "execution_count": 6,
   "metadata": {},
   "outputs": [],
   "source": [
    "with open(namesWithInsAndDat[0], \"r\") as file:\n",
    "    \n",
    "    # première ligne\n",
    "    line = file.readline()\n",
    "    lineTab = line.split()\n",
    "    \n",
    "    n = int(lineTab[0]) # nombre de sites\n",
    "    C_1 = int(lineTab[1]) # capacité max 1\n",
    "    C_2 = int(lineTab[2]) # capacité max 2\n",
    "    r = int(lineTab[3]) # numéro du centre\n",
    "    \n",
    "    # print(n)\n",
    "    \n",
    "    PI = [] # prédécesseurs\n",
    "    d = [] # distances\n",
    "    p = [] # profits\n",
    "    w_1 = [] # poids 1\n",
    "    w_2 = [] # poids 2\n",
    "    \n",
    "    \n",
    "    for j in range(n): # pour chaque site\n",
    "        line = file.readline()\n",
    "        lineTab = line.split()\n",
    "        \n",
    "        # print(j)\n",
    "        \n",
    "        PI.append(int(lineTab[0]))\n",
    "        d.append(int(lineTab[1]))\n",
    "        p.append(float(lineTab[2]))\n",
    "        w_1.append(int(lineTab[3]))\n",
    "        w_2.append(int(lineTab[4]))"
   ]
  },
  {
   "cell_type": "markdown",
   "metadata": {},
   "source": [
    "## Premier modèle\n",
    "\n",
    "Considérez les variables :\n",
    "\n",
    "- $x_i = \\left\\{ \\begin{array}{l}\n",
    "1 \\text{ si le site } i \\in V \\text{ est sélectionné,}\\\\\n",
    "0 \\text{ sinon.}\n",
    "\\end{array}\\right.$\n",
    "- $R \\in \\mathbb{R} $ la valeur du rayon (la distance au centre du sommet sélectionné le plus éloigné).\n",
    "\n",
    "Ecrivez et implémentez ce premier modèle. Vous testerez ce modèle sur les instances fournies."
   ]
  },
  {
   "cell_type": "code",
   "execution_count": 7,
   "metadata": {},
   "outputs": [],
   "source": [
    "# Import du paquet PythonMIP et de toutes ses fonctionnalités\n",
    "from mip import *\n",
    "\n",
    "# Import du paquet time pour calculer le temps de résolution\n",
    "import time\n",
    "\n",
    "# Création du modèle vide \n",
    "model1 = Model(name = \"RSWCC1\", solver_name=\"CBC\")\n",
    "# model1 = Model(name = \"RSWCC1\")\n",
    "\n",
    "## Variables\n",
    "\n",
    "# x(i)\n",
    "x = []\n",
    "for i in range(n):\n",
    "    x.append(model1.add_var(name=\"x(\" + str(i) + \")\", var_type=BINARY))\n",
    "             \n",
    "# R\n",
    "R = model1.add_var(name=\"R\", var_type=CONTINUOUS)\n",
    "             \n",
    "## Objectif\n",
    "\n",
    "model1.objective = maximize(xsum(x[i]*p[i] for i in range(n)) - R)"
   ]
  },
  {
   "cell_type": "code",
   "execution_count": 8,
   "metadata": {},
   "outputs": [],
   "source": [
    "## Contraintes\n",
    "\n",
    "# Respect de la capacité 1 \n",
    "model1.add_constr(xsum(x[i]*w_1[i] for i in range(n)) <= C_1)\n",
    "\n",
    "# Respect de la capacité 2\n",
    "model1.add_constr(xsum(x[i]*w_2[i] for i in range(n)) <= C_2)\n",
    "\n",
    "# Tout sommet à un prédécesseur\n",
    "for i in range(n):\n",
    "    if (d[i] != 0):\n",
    "        model1.add_constr(x[i] <= x[PI[i]])\n",
    "    else:\n",
    "        model1.add_constr(x[i] == -1)\n",
    "        \n",
    "# Ci dessus, on considère que les données sont bien construites\n",
    "# sinon on devrait générer des exceptions diverses\n",
    "    \n",
    "# La distance R est la plus grande distance séléctionnée\n",
    "for i in range(n):\n",
    "    model1.add_constr(x[i]*d[i] <= R)"
   ]
  },
  {
   "cell_type": "code",
   "execution_count": 9,
   "metadata": {
    "scrolled": true
   },
   "outputs": [
    {
     "name": "stdout",
     "output_type": "stream",
     "text": [
      "Welcome to the CBC MILP Solver \n",
      "Version: devel \n",
      "Build Date: Nov 15 2020 \n",
      "\n",
      "Starting solution of the Linear programming relaxation problem using Primal Simplex\n",
      "\n"
     ]
    }
   ],
   "source": [
    "model1.write(namesWithModAndLp[0])\n",
    "    \n",
    "start = time.perf_counter()\n",
    "\n",
    "status = model1.optimize(max_seconds = 60)\n",
    "\n",
    "runtime = time.perf_counter() - start"
   ]
  },
  {
   "cell_type": "code",
   "execution_count": 10,
   "metadata": {},
   "outputs": [
    {
     "name": "stdout",
     "output_type": "stream",
     "text": [
      "\n",
      "----------------------------------\n",
      "Status de la résolution: IRREALISABLE\n",
      "----------------------------------\n",
      "Pas de solution calculée\n",
      "----------------------------------\n",
      "\n"
     ]
    }
   ],
   "source": [
    "with open(namesWithSolAndLp[0], 'w') as file:  #ouvre le fichier, le ferme automatiquement à la fin et gère les exceptions\n",
    "    def dprint(str): # double print (file and console)\n",
    "        print(str)\n",
    "        file.write(str + \"\\n\")\n",
    "        \n",
    "    dprint(\"\\n----------------------------------\")\n",
    "    if status == OptimizationStatus.OPTIMAL:\n",
    "        dprint(\"Status de la résolution: OPTIMAL\")\n",
    "    elif status == OptimizationStatus.FEASIBLE:\n",
    "        dprint(\"Status de la résolution: TEMPS LIMITE et SOLUTION REALISABLE CALCULEE\")\n",
    "    elif status == OptimizationStatus.NO_SOLUTION_FOUND:\n",
    "        dprint(\"Status de la résolution: TEMPS LIMITE et AUCUNE SOLUTION CALCULEE\")\n",
    "    elif status == OptimizationStatus.INFEASIBLE or status == OptimizationStatus.INT_INFEASIBLE:\n",
    "        dprint(\"Status de la résolution: IRREALISABLE\")\n",
    "    elif status == OptimizationStatus.UNBOUNDED:\n",
    "        dprint(\"Status de la résolution: NON BORNE\")\n",
    "    print(\"----------------------------------\")\n",
    "\n",
    "    # Si le modèle a été résolu à l'optimalité ou si une solution a été trouvée dans le temps limite accordé\n",
    "    if model1.num_solutions>0:\n",
    "        dprint(\"Solution calculée\")\n",
    "        dprint(\"-> Valeur de la fonction objectif de la solution calculée : \",  model1.objective_value)\n",
    "        # ne pas oublier d'arrondir si le coût doit être entier\n",
    "        dprint(\"-> Meilleure borne inférieure sur la valeur de la fonction objectif = \", model1.objective_bound)\n",
    "        for i in range(n):\n",
    "            # x[i].x pour accéder à la valeur de la variable !\n",
    "            dprint(\"x[\", i,\"] vaut \", x[i].x)\n",
    "            dprint(\"R vaut \", R.x)\n",
    "    else:\n",
    "        dprint(\"Pas de solution calculée\")\n",
    "    dprint(\"----------------------------------\\n\")"
   ]
  },
  {
   "cell_type": "code",
   "execution_count": null,
   "metadata": {},
   "outputs": [],
   "source": [
    "## TODO:\n",
    "# trouver pourquoi c'est irréalisable\n",
    "# puis faire sur toutes les instanceses\n",
    "# faire le deuxième modèle\n",
    "# finir le rapport"
   ]
  },
  {
   "cell_type": "markdown",
   "metadata": {},
   "source": [
    "## Deuxième modèle\n",
    "\n",
    "Il est possible de modéliser le rayon de manière plus précise. Pour cela, on définit la fonction $\\sigma : V \\mapsto \\{1, \\dots, n\\}$ qui associe à chaque site $i \\in V$ sa position dans l'ordre croissant des distances des sites au centre et $\\sigma^{-1}(k)$ la fonction inverse qui renvoie le site en position $k$ dans cet ordre\\\n",
    "($0 = d_r = d_{\\sigma^{-1}(1)} \\leq d_{\\sigma^{-1}(2)} \\leq \\dots \\leq d_{\\sigma^{-1}(n)}$). Pour tout site $i \\in V \\setminus \\{r\\}$ différent du centre $r$, on pose $\\Delta_i = d_i - d_{\\sigma^{-1}(\\sigma(i)-1)}$ la différence de distance entre le site $i$ et son prédécesseur dans l'ordre défini pas $\\sigma$.\n",
    "\n",
    "Considérez les variables suivantes\n",
    "\n",
    "- $x_i = \\left\\{ \\begin{array}{l}\n",
    "1 \\text{ si le site } i \\in V \\text{ est sélectionné,}\\\\\n",
    "0 \\text{ sinon.}\n",
    "\\end{array}\\right.$      \n",
    "- $y_i = \\left\\{ \\begin{array}{l}\n",
    "1 \\text{ si le site } i \\in V \\text{ a une distance plus petite ou égale que le rayon du centre,}\\\\\n",
    "0 \\text{ sinon.}\n",
    "\\end{array}\\right.$\n",
    "\n",
    "Notez qu'un sommet peut avoir une distance plus petite que le rayon, sans nécessairement être sélectionné dans la solution. En revanche, un sommet sélectionné doit forcement avoir une distance plus petite ou égale au rayon. Notez également que le rayon d'un centre est la somme des $\\Delta_i$ sur tous les sites $i$ ayant une distance plus petite ou égale au rayon.\n",
    "\n",
    "Ecrivez et implémentez ce second modèle ci-dessous. Vous testerez ce modèle sur les instances fournies."
   ]
  },
  {
   "cell_type": "code",
   "execution_count": null,
   "metadata": {},
   "outputs": [],
   "source": []
  },
  {
   "cell_type": "markdown",
   "metadata": {},
   "source": [
    "## Travail à rendre\n",
    "\n",
    "Vous rendrez sur Moodle :\n",
    "\n",
    "- un court rapport (au format pdf) présentant les modèles et les résultats obtenus ;\n",
    "- le fichier `.ipynb` contenant vos modèles en python.\n"
   ]
  },
  {
   "cell_type": "code",
   "execution_count": null,
   "metadata": {},
   "outputs": [],
   "source": []
  }
 ],
 "metadata": {
  "kernelspec": {
   "display_name": "Python 3",
   "language": "python",
   "name": "python3"
  },
  "language_info": {
   "codemirror_mode": {
    "name": "ipython",
    "version": 3
   },
   "file_extension": ".py",
   "mimetype": "text/x-python",
   "name": "python",
   "nbconvert_exporter": "python",
   "pygments_lexer": "ipython3",
   "version": "3.6.9"
  }
 },
 "nbformat": 4,
 "nbformat_minor": 4
}
